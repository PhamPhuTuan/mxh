{
  "cells": [
    {
      "cell_type": "code",
      "execution_count": null,
      "metadata": {
        "id": "IeoQ3vrKaIGB"
      },
      "outputs": [],
      "source": [
        "!pip install selenium\n",
        "!apt-get update # to update ubuntu to correctly run apt install\n",
        "!apt install chromium-chromedriver\n",
        "!cp /usr/lib/chromium-browser/chromedriver /usr/bin\n",
        "!pip install webdriver-manager"
      ]
    },
    {
      "cell_type": "code",
      "execution_count": 93,
      "metadata": {
        "id": "V7fzNZ2sbQ2X"
      },
      "outputs": [],
      "source": [
        "import os\n",
        "from selenium import webdriver\n",
        "import requests\n",
        "import time\n",
        "from webdriver_manager.chrome import ChromeDriverManager\n",
        "from selenium.webdriver.common.by import By\n",
        "from selenium.webdriver.support.ui import WebDriverWait\n",
        "from selenium.webdriver.support import expected_conditions as EC"
      ]
    },
    {
      "cell_type": "code",
      "execution_count": 94,
      "metadata": {
        "id": "B5X3nEOKaOZJ"
      },
      "outputs": [],
      "source": [
        "import sys\n",
        "sys.path.insert(0,'/usr/lib/chromium-browser/chromedriver')\n",
        "from selenium import webdriver\n",
        "chrome_options = webdriver.ChromeOptions()\n",
        "chrome_options.add_argument('--headless')\n",
        "chrome_options.add_argument('--no-sandbox')\n",
        "chrome_options.add_argument('--disable-dev-shm-usage')"
      ]
    },
    {
      "cell_type": "code",
      "execution_count": 95,
      "metadata": {},
      "outputs": [],
      "source": [
        "def runget(url):\n",
        "    elementImages=[]\n",
        "    wd = webdriver.Chrome('chromedriver',options=chrome_options)\n",
        "    wd.get(url)\n",
        "    time.sleep(2)\n",
        "    page = wd.find_elements(By.CLASS_NAME, \"PEfnhb\")\n",
        "    elementImgs = page[0].find_elements(By.CLASS_NAME, \"l-u-Ab-zb-Ua\")\n",
        "    for e in elementImgs:\n",
        "        elementImages.append(e)\n",
        "    i = 1\n",
        "    while True:\n",
        "        wd.execute_script(\"arguments[0].scrollIntoView();\", elementImgs[len(elementImgs)-1])\n",
        "        time.sleep(2)\n",
        "        elementImgs = page[0].find_elements(By.CLASS_NAME, \"l-u-Ab-zb-Ua\")\n",
        "        j = 50*i\n",
        "        while j < len(elementImgs):\n",
        "            elementImages.append(elementImgs[j])\n",
        "            j=j+1\n",
        "        if (len(elementImgs) - 50*i < 50):\n",
        "            break\n",
        "        i=i+1\n",
        "    return elementImages"
      ]
    },
    {
      "cell_type": "code",
      "execution_count": 96,
      "metadata": {},
      "outputs": [],
      "source": [
        "temp=\"https://drive.google.com/drive/folders/180t_N6csglVkgdBJt3pZKWTrVRRFNIQG?usp=share_link\""
      ]
    },
    {
      "cell_type": "code",
      "execution_count": 97,
      "metadata": {},
      "outputs": [],
      "source": [
        "tempImg = runget(temp)"
      ]
    },
    {
      "cell_type": "code",
      "execution_count": 98,
      "metadata": {},
      "outputs": [],
      "source": [
        "def resizeImg(images):\n",
        "    afImgs = []\n",
        "    for e in images:\n",
        "        imgsr = e.get_attribute(\"src\")\n",
        "        # 400-h380-p-k-nu-iv1\n",
        "        # 200-h190-p-k-nu-iv1\n",
        "        i = imgsr.replace(\"400-h380-p-k-nu-iv1\",\"2880-h1536-iv1\")\n",
        "        afImgs.append(i)\n",
        "    return afImgs"
      ]
    },
    {
      "cell_type": "code",
      "execution_count": 99,
      "metadata": {},
      "outputs": [],
      "source": [
        "resizeImgtemp = resizeImg(tempImg)"
      ]
    },
    {
      "cell_type": "code",
      "execution_count": 101,
      "metadata": {},
      "outputs": [],
      "source": [
        "def linkImg(resizeImg):\n",
        "    string = \"\"\n",
        "    for e in resizeImg:\n",
        "        string = string + e + \",\"\n",
        "    return string"
      ]
    },
    {
      "cell_type": "code",
      "execution_count": 102,
      "metadata": {},
      "outputs": [],
      "source": [
        "stringtemp = linkImg(resizeImgtemp)"
      ]
    },
    {
      "cell_type": "code",
      "execution_count": 104,
      "metadata": {},
      "outputs": [],
      "source": [
        "def writefile(path, string):\n",
        "    fileoject = open(path, \"wb\")\n",
        "    fileoject.write(string.encode(\"ascii\"))"
      ]
    },
    {
      "cell_type": "code",
      "execution_count": 105,
      "metadata": {},
      "outputs": [],
      "source": [
        "writefile(\"./temp.txt\", stringtemp)"
      ]
    }
  ],
  "metadata": {
    "colab": {
      "provenance": []
    },
    "kernelspec": {
      "display_name": "selenium_python",
      "language": "python",
      "name": "python3"
    },
    "language_info": {
      "codemirror_mode": {
        "name": "ipython",
        "version": 3
      },
      "file_extension": ".py",
      "mimetype": "text/x-python",
      "name": "python",
      "nbconvert_exporter": "python",
      "pygments_lexer": "ipython3",
      "version": "3.10.6"
    },
    "vscode": {
      "interpreter": {
        "hash": "336893840567e2d1ffd54bec8c310b50ba328ffa5e2c09d8f3b2e23670245a22"
      }
    }
  },
  "nbformat": 4,
  "nbformat_minor": 0
}

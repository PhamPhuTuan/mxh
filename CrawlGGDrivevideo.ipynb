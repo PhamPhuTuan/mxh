{
  "cells": [
    {
      "cell_type": "code",
      "execution_count": null,
      "metadata": {
        "id": "IeoQ3vrKaIGB"
      },
      "outputs": [],
      "source": [
        "!pip install selenium\n",
        "!apt-get update # to update ubuntu to correctly run apt install\n",
        "!apt install chromium-chromedriver\n",
        "!cp /usr/lib/chromium-browser/chromedriver /usr/bin\n",
        "!pip install webdriver-manager"
      ]
    },
    {
      "cell_type": "code",
      "execution_count": 22,
      "metadata": {
        "id": "V7fzNZ2sbQ2X"
      },
      "outputs": [],
      "source": [
        "import os\n",
        "from selenium import webdriver\n",
        "import requests\n",
        "import time\n",
        "from webdriver_manager.chrome import ChromeDriverManager\n",
        "from selenium.webdriver.common.by import By\n",
        "from selenium.webdriver.support.ui import WebDriverWait\n",
        "from selenium.webdriver.support import expected_conditions as EC"
      ]
    },
    {
      "cell_type": "code",
      "execution_count": 23,
      "metadata": {
        "id": "B5X3nEOKaOZJ"
      },
      "outputs": [],
      "source": [
        "import sys\n",
        "sys.path.insert(0,'/usr/lib/chromium-browser/chromedriver')\n",
        "from selenium import webdriver\n",
        "chrome_options = webdriver.ChromeOptions()\n",
        "chrome_options.add_argument('--headless')\n",
        "chrome_options.add_argument('--no-sandbox')\n",
        "chrome_options.add_argument('--disable-dev-shm-usage')"
      ]
    },
    {
      "cell_type": "code",
      "execution_count": 24,
      "metadata": {},
      "outputs": [],
      "source": [
        "def runget(url):\n",
        "    elementVideos=[]\n",
        "    wd = webdriver.Chrome('chromedriver',options=chrome_options)\n",
        "    wd.get(url)\n",
        "    time.sleep(2)\n",
        "    page = wd.find_elements(By.CLASS_NAME, \"PEfnhb\")\n",
        "    elementImgs = page[0].find_elements(By.CLASS_NAME, \"WYuW0e\")\n",
        "    for e in elementImgs:\n",
        "        elementVideos.append(e)\n",
        "    i = 1\n",
        "    while True:\n",
        "        wd.execute_script(\"arguments[0].scrollIntoView();\", elementImgs[len(elementImgs)-1])\n",
        "        time.sleep(2)\n",
        "        elementImgs = page[0].find_elements(By.CLASS_NAME, \"WYuW0e\")\n",
        "        j = 50*i\n",
        "        while j < len(elementImgs):\n",
        "            elementVideos.append(elementImgs[j])\n",
        "            j=j+1\n",
        "        if (len(elementImgs) - 50*i < 50):\n",
        "            break\n",
        "        i=i+1\n",
        "    return elementVideos"
      ]
    },
    {
      "cell_type": "code",
      "execution_count": 25,
      "metadata": {},
      "outputs": [],
      "source": [
        "def runget2(url):\n",
        "    elementVideos=[]\n",
        "    wd = webdriver.Chrome('chromedriver',options=chrome_options)\n",
        "    wd.get(url)\n",
        "    time.sleep(2)\n",
        "    page = wd.find_elements(By.CLASS_NAME, \"PEfnhb\")\n",
        "    elementImgs = page[0].find_elements(By.CLASS_NAME, \"l-u-Ab-zb-Ua\")\n",
        "    for e in elementImgs:\n",
        "        elementVideos.append(e)\n",
        "    i = 1\n",
        "    while True:\n",
        "        wd.execute_script(\"arguments[0].scrollIntoView();\", elementImgs[len(elementImgs)-1])\n",
        "        time.sleep(2)\n",
        "        elementImgs = page[0].find_elements(By.CLASS_NAME, \"l-u-Ab-zb-Ua\")\n",
        "        j = 50*i\n",
        "        while j < len(elementImgs):\n",
        "            elementVideos.append(elementImgs[j])\n",
        "            j=j+1\n",
        "        if (len(elementImgs) - 50*i < 50):\n",
        "            break\n",
        "        i=i+1\n",
        "    return elementVideos"
      ]
    },
    {
      "cell_type": "code",
      "execution_count": 61,
      "metadata": {},
      "outputs": [],
      "source": [
        "elementVideos = runget(\"\")\n",
        "elementImgs = runget2(\"\")"
      ]
    },
    {
      "cell_type": "code",
      "execution_count": 27,
      "metadata": {},
      "outputs": [],
      "source": [
        "def getID(elementVideos):\n",
        "    ids = []\n",
        "    for e in elementVideos:\n",
        "        id = e.get_attribute(\"data-id\")\n",
        "        ids.append(id)\n",
        "    return ids"
      ]
    },
    {
      "cell_type": "code",
      "execution_count": 28,
      "metadata": {},
      "outputs": [],
      "source": [
        "def getImg(elementVideos):\n",
        "    ids = []\n",
        "    for e in elementVideos:\n",
        "        id = e.get_attribute(\"src\")\n",
        "        ids.append(id)\n",
        "    return ids"
      ]
    },
    {
      "cell_type": "code",
      "execution_count": 62,
      "metadata": {},
      "outputs": [],
      "source": [
        "videoIds = getID(elementVideos)\n",
        "videoImg = getImg(elementImgs)"
      ]
    },
    {
      "cell_type": "code",
      "execution_count": 30,
      "metadata": {},
      "outputs": [],
      "source": [
        "def toLink(ids):\n",
        "    string = \"\"\n",
        "    for e in ids:\n",
        "        s = \"https://drive.google.com/uc?export=download&id=\" + e\n",
        "        string = string + s + \",\"\n",
        "    return string"
      ]
    },
    {
      "cell_type": "code",
      "execution_count": 31,
      "metadata": {},
      "outputs": [],
      "source": [
        "def toLink2(ids):\n",
        "    string = \"\"\n",
        "    for e in ids:\n",
        "        string = string + e + \",\"\n",
        "    return string"
      ]
    },
    {
      "cell_type": "code",
      "execution_count": 63,
      "metadata": {},
      "outputs": [],
      "source": [
        "stringtemp = toLink(videoIds)\n",
        "stringtemp2 = toLink2(videoImg)"
      ]
    },
    {
      "cell_type": "code",
      "execution_count": 33,
      "metadata": {},
      "outputs": [],
      "source": [
        "def writefile(path, string):\n",
        "    fileoject = open(path, \"wb\")\n",
        "    fileoject.write(string.encode(\"ascii\"))"
      ]
    },
    {
      "cell_type": "code",
      "execution_count": 64,
      "metadata": {},
      "outputs": [],
      "source": [
        "writefile(\"./videolink.txt\", stringtemp)\n",
        "writefile(\"./videoImg.txt\", stringtemp2)"
      ]
    },
    {
      "cell_type": "code",
      "execution_count": 65,
      "metadata": {},
      "outputs": [
        {
          "name": "stdout",
          "output_type": "stream",
          "text": [
            "49\n",
            "49\n"
          ]
        }
      ],
      "source": [
        "print(len(videoIds))\n",
        "print(len(elementImgs))"
      ]
    }
  ],
  "metadata": {
    "colab": {
      "provenance": []
    },
    "kernelspec": {
      "display_name": "selenium_python",
      "language": "python",
      "name": "python3"
    },
    "language_info": {
      "codemirror_mode": {
        "name": "ipython",
        "version": 3
      },
      "file_extension": ".py",
      "mimetype": "text/x-python",
      "name": "python",
      "nbconvert_exporter": "python",
      "pygments_lexer": "ipython3",
      "version": "3.10.6"
    },
    "vscode": {
      "interpreter": {
        "hash": "336893840567e2d1ffd54bec8c310b50ba328ffa5e2c09d8f3b2e23670245a22"
      }
    }
  },
  "nbformat": 4,
  "nbformat_minor": 0
}
